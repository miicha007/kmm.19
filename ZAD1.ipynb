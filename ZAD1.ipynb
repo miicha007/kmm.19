{
  "nbformat": 4,
  "nbformat_minor": 0,
  "metadata": {
    "colab": {
      "name": "Untitled2.ipynb",
      "provenance": [],
      "collapsed_sections": [],
      "authorship_tag": "ABX9TyPvd1LC1ZkIVqxv3nWvCEiv",
      "include_colab_link": true
    },
    "kernelspec": {
      "name": "python3",
      "display_name": "Python 3"
    }
  },
  "cells": [
    {
      "cell_type": "markdown",
      "metadata": {
        "id": "view-in-github",
        "colab_type": "text"
      },
      "source": [
        "<a href=\"https://colab.research.google.com/github/miicha007/kmm.19/blob/main/ZAD1.ipynb\" target=\"_parent\"><img src=\"https://colab.research.google.com/assets/colab-badge.svg\" alt=\"Open In Colab\"/></a>"
      ]
    },
    {
      "cell_type": "code",
      "metadata": {
        "id": "gKCb5O28HGep"
      },
      "source": [
        "import math\r\n",
        "class Rational:\r\n",
        "  def __init__(self,z,n=1):\r\n",
        "    self.z=z\r\n",
        "    self.n=n\r\n",
        "  def __str__(self):\r\n",
        "    return str(self.z)+\"/\"+str(self.n)\r\n",
        "  def normalize(self):\r\n",
        "    if self.z<0 or self.n<0:\r\n",
        "      self.z=-self.z\r\n",
        "      self.n=-self.n\r\n",
        "    g = self.gcd(abs(self.z),abs(self.n))\r\n",
        "    self.z=self.z//g\r\n",
        "    self.n=self.n//g\r\n",
        "  def gcd(self,a, b): \r\n",
        "    while a != 0 and b != 0:\r\n",
        "        if a > b:\r\n",
        "            a = a % b \r\n",
        "        else:\r\n",
        "            b = b % a \r\n",
        "    return max(a, b)\r\n"
      ],
      "execution_count": 41,
      "outputs": []
    },
    {
      "cell_type": "code",
      "metadata": {
        "colab": {
          "base_uri": "https://localhost:8080/"
        },
        "id": "1UHFU08JHii0",
        "outputId": "bb5bc964-b3c2-49eb-8f34-83b669fd79e0"
      },
      "source": [
        "r = Rational(5)\r\n",
        "print(r.z,\"/\",r.n)\r\n"
      ],
      "execution_count": 21,
      "outputs": [
        {
          "output_type": "stream",
          "text": [
            "5 / 1\n"
          ],
          "name": "stdout"
        }
      ]
    },
    {
      "cell_type": "code",
      "metadata": {
        "colab": {
          "base_uri": "https://localhost:8080/"
        },
        "id": "dGLr471YIqRK",
        "outputId": "96c7a1db-9678-4ec5-c3cd-688756829462"
      },
      "source": [
        "r = Rational(-10,-2)\r\n",
        "r.normalize()\r\n",
        "print(r)\r\n"
      ],
      "execution_count": 42,
      "outputs": [
        {
          "output_type": "stream",
          "text": [
            "5/1\n"
          ],
          "name": "stdout"
        }
      ]
    }
  ]
}