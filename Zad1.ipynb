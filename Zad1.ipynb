{
  "nbformat": 4,
  "nbformat_minor": 0,
  "metadata": {
    "colab": {
      "name": "Копия блокнота \"Untitled2.ipynb\"",
      "provenance": [],
      "collapsed_sections": [],
      "authorship_tag": "ABX9TyOONaw0lq1fxrzVFkudqlqy",
      "include_colab_link": true
    },
    "kernelspec": {
      "name": "python3",
      "display_name": "Python 3"
    }
  },
  "cells": [
    {
      "cell_type": "markdown",
      "metadata": {
        "id": "view-in-github",
        "colab_type": "text"
      },
      "source": [
        "<a href=\"https://colab.research.google.com/github/miicha007/kmm.19/blob/main/Zad1.ipynb\" target=\"_parent\"><img src=\"https://colab.research.google.com/assets/colab-badge.svg\" alt=\"Open In Colab\"/></a>"
      ]
    },
    {
      "cell_type": "code",
      "metadata": {
        "id": "gKCb5O28HGep"
      },
      "source": [
        "import math\r\n",
        "class Rational:\r\n",
        "  def __init__(self,z,n=1):\r\n",
        "    self.z=z\r\n",
        "    self.n=n\r\n",
        "    self.normalize()\r\n",
        "  def __str__(self):\r\n",
        "    return str(self.z)+\"/\"+str(self.n)\r\n",
        "  def normalize(self):\r\n",
        "    if  self.n<0 :\r\n",
        "      self.z=-self.z\r\n",
        "      self.n=-self.n\r\n",
        "    g = Rational.gcd(abs(self.z),abs(self.n))\r\n",
        "    self.z=self.z//g\r\n",
        "    self.n=self.n//g\r\n",
        "  def __radd__(self,other):\r\n",
        "    return self.__add__(other)\r\n",
        "  def __add__(self,other):\r\n",
        "    if type(other)==Rational:\r\n",
        "      n = self.n\r\n",
        "      self.z = self.z*other.n\r\n",
        "      self.n = self.n*other.n\r\n",
        "      other.z = other.z*n\r\n",
        "      other.n = other.n*n\r\n",
        "      self.z = self.z+ other.z\r\n",
        "      self.normalize()\r\n",
        "    elif type(other)==int:\r\n",
        "      return self + Rational(other)\r\n",
        "    else:\r\n",
        "      return self.z/self.n + other\r\n",
        "    return self\r\n",
        "  def __rsub__(self,other):\r\n",
        "    self.z = -self.z\r\n",
        "    return self+other\r\n",
        "    \r\n",
        "  def __sub__(self,other):\r\n",
        "    if type(other)==Rational:\r\n",
        "      n = self.n\r\n",
        "      self.z = self.z*other.n\r\n",
        "      self.n = self.n*other.n\r\n",
        "      other.z = other.z*n\r\n",
        "      other.n = other.n*n\r\n",
        "      self.z = self.z- other.z\r\n",
        "      self.normalize()\r\n",
        "    elif type(other)==int:\r\n",
        "      return self - Rational(other)\r\n",
        "    else:\r\n",
        "      return self.z/self.n - other\r\n",
        "    return self\r\n",
        "  def __rmul__(self,other):\r\n",
        "    return self.__mul__(other)\r\n",
        "  def __mul__(self,other):\r\n",
        "    if type(other)==Rational:\r\n",
        "      self.z=self.z*other.z\r\n",
        "      self.n=self.n*other.n\r\n",
        "      self.normalize()\r\n",
        "    elif type(other)==int:\r\n",
        "      self.z*=other\r\n",
        "      self.normalize()\r\n",
        "    else:\r\n",
        "      return self.z/self.n*other\r\n",
        "    return self\r\n",
        "  def __rtruediv__(self,other):\r\n",
        "    self.z,self.n=self.n,self.z\r\n",
        "    return self*other\r\n",
        "\r\n",
        "\r\n",
        "  def __truediv__(self,other):\r\n",
        "    if type(other)==Rational:\r\n",
        "      self.z*=other.n\r\n",
        "      self.n*=other.z\r\n",
        "      self.normalize()\r\n",
        "    elif type(other)==int:\r\n",
        "      self.n*=other\r\n",
        "      self.normalize()\r\n",
        "    else:\r\n",
        "      return self.z/(self.n*other)*1.0\r\n",
        "    return self\r\n",
        "  def __pow__(self,other):\r\n",
        "    new_self = Rational(1)\r\n",
        "    for i in range(other):\r\n",
        "      new_self = new_self * self\r\n",
        "    new_self.normalize()\r\n",
        "    return new_self\r\n",
        "  def gcd(a, b): \r\n",
        "    while a != 0 and b != 0:\r\n",
        "        if a > b:\r\n",
        "            a = a % b \r\n",
        "        else:\r\n",
        "            b = b % a \r\n",
        "    return max(a, b)\r\n",
        "  \r\n"
      ],
      "execution_count": 53,
      "outputs": []
    },
    {
      "cell_type": "code",
      "metadata": {
        "colab": {
          "base_uri": "https://localhost:8080/"
        },
        "id": "1UHFU08JHii0",
        "outputId": "224ebe3d-a68e-43eb-8544-8ed1f9f02fbb"
      },
      "source": [
        ""
      ],
      "execution_count": null,
      "outputs": [
        {
          "output_type": "stream",
          "text": [
            "2.0\n"
          ],
          "name": "stdout"
        }
      ]
    },
    {
      "cell_type": "code",
      "metadata": {
        "colab": {
          "base_uri": "https://localhost:8080/"
        },
        "id": "1LjSFfv4zsLa",
        "outputId": "781a88bb-29b7-4d72-de9b-babc6654c8ac"
      },
      "source": [
        "#задание 1-4\r\n",
        "r = Rational(-10)\r\n",
        "print(r)\r\n",
        "r = Rational(-10/-2)\r\n",
        "print(r)\r\n",
        "r = Rational(10/-2)\r\n",
        "print(r)"
      ],
      "execution_count": 38,
      "outputs": [
        {
          "output_type": "stream",
          "text": [
            "-10/1\n",
            "5.0/1\n",
            "-5.0/1\n"
          ],
          "name": "stdout"
        }
      ]
    },
    {
      "cell_type": "code",
      "metadata": {
        "colab": {
          "base_uri": "https://localhost:8080/"
        },
        "id": "AxwXmPSG0s_b",
        "outputId": "ee0516b2-3ef1-4053-a353-07d48f383d18"
      },
      "source": [
        "#задание 5 и 7 (+,-,*,/) с двух сторон\r\n",
        "print(\"\\nоперация '*'\")\r\n",
        "print(\"-2/3*-4/3=\",Rational(-2,3)*Rational(4,-3),\";\")\r\n",
        "print(\"-2/3*4=\",Rational(-2,3)*4,\";\",\"4*(-2/3)=\",4*Rational(-2,3))\r\n",
        "r = Rational(10,3)\r\n",
        "r = r*10.0\r\n",
        "print(\"10/3*10.0=\",r,\";\",end=' ')\r\n",
        "r = Rational(10,3)\r\n",
        "r = 10.0*r\r\n",
        "print(\"10.0*(10/3)=\",r,\";\")\r\n",
        "\r\n",
        "print(\"\\nоперация '/'\")\r\n",
        "print(\"(-2/3)/(4/3)=\",Rational(-2,3)/Rational(4,-3),';',\"(4/3)/(-2/3)=\",Rational(4,-3)/Rational(-2,3),';')\r\n",
        "print(\"(-2/3)/4=\",Rational(-2,3)/4,';',\"4/(-2/3)=\",4/Rational(-2,3),';')\r\n",
        "r = Rational(10,3)\r\n",
        "r = r/10.0\r\n",
        "print(\"(10/3)/10.0=\",r,end=' ')\r\n",
        "r = Rational(10,3)\r\n",
        "r = 10.0/r\r\n",
        "print(\"10.0/(10/3)=\",r)\r\n",
        "\r\n",
        "\r\n",
        "print(\"\\nоперация '-'\")\r\n",
        "print(\"3/4-5/3=\",Rational(3,4) - Rational(5,3),';')\r\n",
        "print(\"3/4-1=\",Rational(3,4) - 1,';',\"1-3/4=\",1-Rational(3,4),';')\r\n",
        "print(\"3/4-1.0=\",Rational(3,4) - 1.0,';',\"1.0-3/4=\",1.0-Rational(3,4),';')\r\n",
        "\r\n",
        "print(\"\\nоперация '+'\")\r\n",
        "print(Rational(3,4) + Rational(5,3))\r\n",
        "print(Rational(3,4) + 1,1+Rational(3,4) )\r\n",
        "print(Rational(3,4) + 1.0,1.0+Rational(3,4))\r\n"
      ],
      "execution_count": 54,
      "outputs": [
        {
          "output_type": "stream",
          "text": [
            "\n",
            "операция '*'\n",
            "-2/3*-4/3= 8/9 ;\n",
            "-2/3*4= -8/3 ; 4*(-2/3)= -8/3\n",
            "10/3*10.0= 33.333333333333336 ; 10.0*(10/3)= 33.333333333333336 ;\n",
            "\n",
            "операция '/'\n",
            "(-2/3)/(4/3)= 1/2 ; (4/3)/(-2/3)= 2/1 ;\n",
            "(-2/3)/4= -1/6 ; 4/(-2/3)= -6/1 ;\n",
            "(10/3)/10.0= 0.3333333333333333 10.0/(10/3)= 3.0\n",
            "\n",
            "операция '-'\n",
            "3/4-5/3= -11/12 ;\n",
            "3/4-1= -1/4 ; 1-3/4= 1/4 ;\n",
            "3/4-1.0= -0.25 ; 1.0-3/4= 0.25 ;\n",
            "\n",
            "операция '+'\n",
            "29/12\n",
            "7/4 7/4\n",
            "1.75 1.75\n"
          ],
          "name": "stdout"
        }
      ]
    },
    {
      "cell_type": "code",
      "metadata": {
        "id": "3inLMFcJ51cF",
        "colab": {
          "base_uri": "https://localhost:8080/"
        },
        "outputId": "fd5f1183-aa99-481e-fa36-625e0fbd5e35"
      },
      "source": [
        "#задание 6 (**)\r\n",
        "\r\n",
        "print(\"-3**2=\", Rational(-3)**2)\r\n",
        "print(\"-3**3=\", Rational(-3)**3)\r\n"
      ],
      "execution_count": 28,
      "outputs": [
        {
          "output_type": "stream",
          "text": [
            "-3**2= 9/1\n",
            "-3**3= -27/1\n"
          ],
          "name": "stdout"
        }
      ]
    },
    {
      "cell_type": "code",
      "metadata": {
        "id": "INmjTD3zLc1-"
      },
      "source": [
        "if type(other)==Rational:\r\n",
        "      n = self.n\r\n",
        "      self.z = self.z*other.n\r\n",
        "      self.n = self.n*other.n\r\n",
        "      other.z = other.z*n\r\n",
        "      other.n = other.n*n\r\n",
        "      self.z = other.z - self.z\r\n",
        "      self.normalize()\r\n",
        "    elif type(other)==int:\r\n",
        "      return  Rational(other)- self\r\n",
        "    else:\r\n",
        "      return    other - self.z/self.n\r\n"
      ],
      "execution_count": null,
      "outputs": []
    }
  ]
}