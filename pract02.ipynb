{
  "nbformat": 4,
  "nbformat_minor": 0,
  "metadata": {
    "colab": {
      "name": "Untitled4.ipynb",
      "provenance": [],
      "collapsed_sections": [],
      "authorship_tag": "ABX9TyNVlDsoWAOA1BC0p3A/pDB6",
      "include_colab_link": true
    },
    "kernelspec": {
      "name": "python3",
      "display_name": "Python 3"
    }
  },
  "cells": [
    {
      "cell_type": "markdown",
      "metadata": {
        "id": "view-in-github",
        "colab_type": "text"
      },
      "source": [
        "<a href=\"https://colab.research.google.com/github/miicha007/kmm.19/blob/main/pract02.ipynb\" target=\"_parent\"><img src=\"https://colab.research.google.com/assets/colab-badge.svg\" alt=\"Open In Colab\"/></a>"
      ]
    },
    {
      "cell_type": "code",
      "metadata": {
        "colab": {
          "base_uri": "https://localhost:8080/",
          "height": 587
        },
        "id": "Eudey-ZcEOX3",
        "outputId": "d572860d-2a2d-4055-c5ec-6bbe42e883eb"
      },
      "source": [
        "import matplotlib\r\n",
        "class Polynomial():\r\n",
        "  def __init__(self,mas):\r\n",
        "    self.mas = mas\r\n",
        "  def __str__(self):\r\n",
        "    masStr=[]\r\n",
        "    if(self.mas[0]!=0):masStr.append(str(self.mas[0]))\r\n",
        "    for i in range(1,len(self.mas)):\r\n",
        "      vr=\"\"\r\n",
        "      if(self.mas[i]==0):\r\n",
        "        continue\r\n",
        "      else:\r\n",
        "        if (self.mas[i]!=1):\r\n",
        "          vr+=str(self.mas[i])\r\n",
        "      if i == 1:\r\n",
        "          vr += \"x\"\r\n",
        "      else:\r\n",
        "        vr +=\"x^\"+str(i)\r\n",
        "        \r\n",
        "      masStr.append(vr)\r\n",
        "    return \"+\".join(masStr).replace(\"+-\",\"-\")\r\n",
        "  def __add__(self,other):\r\n",
        "    if type(other)==Polynomial:\r\n",
        "      new_p = Polynomial([0]*max(len(self.mas),len(other.mas)))\r\n",
        "      for i in range(len(self.mas)):\r\n",
        "        new_p.mas[i]+=self.mas[i]\r\n",
        "      for i in range(len(other.mas)):\r\n",
        "        new_p.mas[i]+=other.mas[i]\r\n",
        "      return new_p\r\n",
        "    else:\r\n",
        "      return False;\r\n",
        "  def evalf(self,x):\r\n",
        "    return sum([self.mas[i]*x**(i) for i in range(len(self.mas))])\r\n",
        "  def  toLatex(self):\r\n",
        "    masStr=[]\r\n",
        "    if(self.mas[0]!=0):masStr.append(\"{\"+str(self.mas[0])+\"}\")\r\n",
        "    for i in range(1,len(self.mas)):\r\n",
        "      vr=\"\"\r\n",
        "      if(self.mas[i]==0):\r\n",
        "        continue\r\n",
        "      else:\r\n",
        "        if (self.mas[i]!=1):\r\n",
        "          vr+=\"{\"+str(self.mas[i])+\"}\"\r\n",
        "      if i == 1:\r\n",
        "          vr += \"x\"\r\n",
        "      else:\r\n",
        "        vr +=\"x^{\"+str(i)+\"}\"\r\n",
        "      masStr.append(vr)\r\n",
        "    return \"//\"+\"+\".join(masStr).replace(\"+-\",\"-\")\r\n",
        "  def show(self):\r\n",
        "    display(Math(str(self)))\r\n",
        "  def diff(self):\r\n",
        "    new_mas = [0]*(len(self.mas)-1)\r\n",
        "    for i in range(1,len(self.mas)):\r\n",
        "      new_mas[i-1] = self.mas[i]*i\r\n",
        "    self.mas=new_mas\r\n",
        "  def graf(self,a,b,h):\r\n",
        "    x = []\r\n",
        "    y = []\r\n",
        "    while a<b:\r\n",
        "      x.append(a)\r\n",
        "      y.append(self.evalf(a))\r\n",
        "      a+=h\r\n",
        "    fig, ax = matplotlib.pyplot.subplots(figsize=(20, 9))\r\n",
        "    ax.plot(x, y, color=\"red\", lw=1)\r\n",
        "    ax.grid()\r\n",
        "\r\n",
        "f = Polynomial([1,-1,3])\r\n",
        "print(f)\r\n",
        "f = Polynomial([16,-12,0,1])\r\n",
        "print(f)\r\n",
        "print(f.toLatex())\r\n",
        "f.evalf(2)\r\n",
        "f.graf(-6,7,0.2)\r\n",
        "\r\n",
        "\r\n"
      ],
      "execution_count": null,
      "outputs": [
        {
          "output_type": "stream",
          "text": [
            "1-1x+3x^2\n",
            "16-12x+x^3\n",
            "//{16}+{-12}x+x^{3}\n"
          ],
          "name": "stdout"
        },
        {
          "output_type": "display_data",
          "data": {
            "image/png": "[encoded data removed]",
            "text/plain": [
              "<Figure size 1440x648 with 1 Axes>"
            ]
          },
          "metadata": {
            "tags": [],
            "needs_background": "light"
          }
        }
      ]
    },
    {
      "cell_type": "code",
      "metadata": {
        "colab": {
          "base_uri": "https://localhost:8080/",
          "height": 77
        },
        "id": "yqhtH5xJLk3F",
        "outputId": "1d5a13a3-43ba-4609-db7a-ba1f96574e25"
      },
      "source": [
        "from IPython.display import display, Math\r\n",
        "f = Polynomial([-5,-1,3])\r\n",
        "f.show()\r\n",
        "f.diff()\r\n",
        "print(f.mas)\r\n",
        "f.show()"
      ],
      "execution_count": null,
      "outputs": [
        {
          "output_type": "display_data",
          "data": {
            "text/latex": "$$-5-1x+3x^2$$",
            "text/plain": [
              "<IPython.core.display.Math object>"
            ]
          },
          "metadata": {
            "tags": []
          }
        },
        {
          "output_type": "stream",
          "text": [
            "[-1, 6]\n"
          ],
          "name": "stdout"
        },
        {
          "output_type": "display_data",
          "data": {
            "text/latex": "$$-1+6x$$",
            "text/plain": [
              "<IPython.core.display.Math object>"
            ]
          },
          "metadata": {
            "tags": []
          }
        }
      ]
    }
  ]
}