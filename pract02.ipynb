{
  "nbformat": 4,
  "nbformat_minor": 0,
  "metadata": {
    "colab": {
      "name": "Untitled4.ipynb",
      "provenance": [],
      "collapsed_sections": [],
      "authorship_tag": "ABX9TyNH224rs3DenEnMWiURHJLp",
      "include_colab_link": true
    },
    "kernelspec": {
      "name": "python3",
      "display_name": "Python 3"
    }
  },
  "cells": [
    {
      "cell_type": "markdown",
      "metadata": {
        "id": "view-in-github",
        "colab_type": "text"
      },
      "source": [
        "<a href=\"https://colab.research.google.com/github/miicha007/kmm.19/blob/main/pract02.ipynb\" target=\"_parent\"><img src=\"https://colab.research.google.com/assets/colab-badge.svg\" alt=\"Open In Colab\"/></a>"
      ]
    },
    {
      "cell_type": "code",
      "metadata": {
        "colab": {
          "base_uri": "https://localhost:8080/",
          "height": 638
        },
        "id": "Eudey-ZcEOX3",
        "outputId": "27e6114a-eca6-4402-fe66-d4ec975f3eb9"
      },
      "source": [
        "import matplotlib\r\n",
        "class Polynomial():\r\n",
        "  def __init__(self,mas):\r\n",
        "    self.mas = mas\r\n",
        "  def __str__(self):\r\n",
        "    masStr=[]\r\n",
        "    if(self.mas[0]!=0):masStr.append(str(self.mas[0]))\r\n",
        "    for i in range(1,len(self.mas)):\r\n",
        "      vr=\"\"\r\n",
        "      if(self.mas[i]==0):\r\n",
        "        continue\r\n",
        "      else:\r\n",
        "        if (self.mas[i]!=1):\r\n",
        "          vr+=str(self.mas[i])\r\n",
        "      if i == 1:\r\n",
        "          vr += \"x\"\r\n",
        "      else:\r\n",
        "        vr +=\"x^\"+str(i)\r\n",
        "        \r\n",
        "      masStr.append(vr)\r\n",
        "    return \"+\".join(masStr).replace(\"+-\",\"-\")\r\n",
        "  def __add__(self,other):\r\n",
        "    if type(other)==Polynomial:\r\n",
        "      new_p = Polynomial([0]*max(len(self.mas),len(other.mas)))\r\n",
        "      for i in range(len(self.mas)):\r\n",
        "        new_p.mas[i]+=self.mas[i]\r\n",
        "      for i in range(len(other.mas)):\r\n",
        "        new_p.mas[i]+=other.mas[i]\r\n",
        "      return new_p\r\n",
        "    else:\r\n",
        "      return False;\r\n",
        "  def __sub__(self,other):\r\n",
        "    if type(other)==Polynomial:\r\n",
        "      new_p = Polynomial([0]*max(len(self.mas),len(other.mas)))\r\n",
        "      for i in range(len(self.mas)):\r\n",
        "        new_p.mas[i]+=self.mas[i]\r\n",
        "      for i in range(len(other.mas)):\r\n",
        "        new_p.mas[i]-=other.mas[i]\r\n",
        "      return new_p\r\n",
        "    else:\r\n",
        "      return False;\r\n",
        "  def evalf(self,x):\r\n",
        "    return sum([self.mas[i]*x**(i) for i in range(len(self.mas))])\r\n",
        "  def  toLatex(self):\r\n",
        "    masStr=[]\r\n",
        "    if(self.mas[0]!=0):masStr.append(\"{\"+str(self.mas[0])+\"}\")\r\n",
        "    for i in range(1,len(self.mas)):\r\n",
        "      vr=\"\"\r\n",
        "      if(self.mas[i]==0):\r\n",
        "        continue\r\n",
        "      else:\r\n",
        "        if (self.mas[i]!=1):\r\n",
        "          vr+=\"{\"+str(self.mas[i])+\"}\"\r\n",
        "      if i == 1:\r\n",
        "          vr += \"x\"\r\n",
        "      else:\r\n",
        "        vr +=\"x^{\"+str(i)+\"}\"\r\n",
        "      masStr.append(vr)\r\n",
        "    return \"//\"+\"+\".join(masStr).replace(\"+-\",\"-\")\r\n",
        "  def show(self):\r\n",
        "    display(Math(str(self)))\r\n",
        "  def diff(self):\r\n",
        "    new_mas = [0]*(len(self.mas)-1)\r\n",
        "    for i in range(1,len(self.mas)):\r\n",
        "      new_mas[i-1] = self.mas[i]*i\r\n",
        "    self.mas=new_mas\r\n",
        "  def graf(self,a,b,h):\r\n",
        "    x = []\r\n",
        "    y = []\r\n",
        "    while a<b:\r\n",
        "      x.append(a)\r\n",
        "      y.append(self.evalf(a))\r\n",
        "      a+=h\r\n",
        "    fig, ax = matplotlib.pyplot.subplots(figsize=(20, 9))\r\n",
        "    ax.plot(x, y, color=\"red\", lw=1)\r\n",
        "    ax.grid()\r\n",
        "\r\n",
        "\r\n",
        "\r\n",
        "\r\n",
        "\r\n",
        "\r\n",
        "\r\n",
        "\r\n",
        "#13. Построение графика заданного многочлена в заданных пределах x ∈ [a, b].\r\n",
        "f = Polynomial([16,-12,0,1])\r\n",
        "f.show()\r\n",
        "f.graf(-6,7,0.2)\r\n",
        "\r\n",
        "\r\n"
      ],
      "execution_count": 22,
      "outputs": [
        {
          "output_type": "stream",
          "text": [
            "1+x^2(x-2)=5\n"
          ],
          "name": "stdout"
        },
        {
          "output_type": "display_data",
          "data": {
            "text/latex": "$$2+5x+3x^2$$",
            "text/plain": [
              "<IPython.core.display.Math object>"
            ]
          },
          "metadata": {
            "tags": []
          }
        },
        {
          "output_type": "display_data",
          "data": {
            "text/latex": "$$-5-1x+3x^2$$",
            "text/plain": [
              "<IPython.core.display.Math object>"
            ]
          },
          "metadata": {
            "tags": []
          }
        },
        {
          "output_type": "display_data",
          "data": {
            "text/latex": "$$-1+6x$$",
            "text/plain": [
              "<IPython.core.display.Math object>"
            ]
          },
          "metadata": {
            "tags": []
          }
        },
        {
          "output_type": "display_data",
          "data": {
            "text/latex": "$$16-12x+x^3$$",
            "text/plain": [
              "<IPython.core.display.Math object>"
            ]
          },
          "metadata": {
            "tags": []
          }
        },
        {
          "output_type": "display_data",
          "data": {
            "image/png": "[encoded data removed]",
            "text/plain": [
              "<Figure size 1440x648 with 1 Axes>"
            ]
          },
          "metadata": {
            "tags": [],
            "needs_background": "light"
          }
        }
      ]
    },
    {
      "cell_type": "code",
      "metadata": {
        "colab": {
          "base_uri": "https://localhost:8080/"
        },
        "id": "hNZKELDVfkMs",
        "outputId": "d34731f7-d8ba-4c81-9e2f-a1eaec28b623"
      },
      "source": [
        "#1.Реализовать на языке Python класс Polynomial для работы с многочленами с целыми коэффициентами.\r\n",
        "#2. Конструктор принимает на вход список коэффициентов многочлена (0-й элемент — свободный член, 1-й — при x, 2-й — при x2 и т.д.).1\r\n",
        "#3. Перегрузка метода __str__ для преобразования многочлена в строку, например,\r\n",
        "#Polynomial(2,5,3) → ’3x^2+5x+2’.\r\n",
        "f = Polynomial([2,5,3])\r\n",
        "print(f)"
      ],
      "execution_count": 23,
      "outputs": [
        {
          "output_type": "stream",
          "text": [
            "2+5x+3x^2\n"
          ],
          "name": "stdout"
        }
      ]
    },
    {
      "cell_type": "code",
      "metadata": {
        "colab": {
          "base_uri": "https://localhost:8080/"
        },
        "id": "SZuDjq37fuV0",
        "outputId": "02a112b8-5065-4a20-f077-30e741e08ac1"
      },
      "source": [
        "\r\n",
        "#4.Перегрузка операций сложения и вычитания.\r\n",
        "print(Polynomial([2,5,3])-Polynomial([2,4,6]))\r\n",
        "print(f+f)"
      ],
      "execution_count": 25,
      "outputs": [
        {
          "output_type": "stream",
          "text": [
            "x-3x^2\n",
            "4+10x+6x^2\n"
          ],
          "name": "stdout"
        }
      ]
    },
    {
      "cell_type": "code",
      "metadata": {
        "colab": {
          "base_uri": "https://localhost:8080/"
        },
        "id": "gjJYzUtwfxeI",
        "outputId": "2e793bbf-1200-4688-c08c-7d761453d4d1"
      },
      "source": [
        "\r\n",
        "#9.Вычисление значения многочлена в заданной точке (метод evalf).\r\n",
        "f = Polynomial([1,0,1])\r\n",
        "print(f, \"(x-2)=\",f.evalf(2),sep=\"\")"
      ],
      "execution_count": 26,
      "outputs": [
        {
          "output_type": "stream",
          "text": [
            "1+x^2(x-2)=5\n"
          ],
          "name": "stdout"
        }
      ]
    },
    {
      "cell_type": "code",
      "metadata": {
        "colab": {
          "base_uri": "https://localhost:8080/",
          "height": 38
        },
        "id": "8BDGpR17fzth",
        "outputId": "8e381a15-060a-48af-fd06-8674c632b481"
      },
      "source": [
        "from IPython.display import display, Math\r\n",
        "#10.Преобразование к формату LaTeX (метод toLatex):Polynomial(2,5,3) → 3x\r\n",
        "#11. Вывод формулы на печать (метод show).\r\n",
        "f = Polynomial([2,5,3])\r\n",
        "f.show()"
      ],
      "execution_count": 28,
      "outputs": [
        {
          "output_type": "display_data",
          "data": {
            "text/latex": "$$2+5x+3x^2$$",
            "text/plain": [
              "<IPython.core.display.Math object>"
            ]
          },
          "metadata": {
            "tags": []
          }
        }
      ]
    },
    {
      "cell_type": "code",
      "metadata": {
        "colab": {
          "base_uri": "https://localhost:8080/",
          "height": 59
        },
        "id": "UpVgSAOuf2WJ",
        "outputId": "8c7797cd-5fc8-4165-a589-90cd98f8bd7d"
      },
      "source": [
        "#12. Вычисление производной заданного многочлена (метод diff).\r\n",
        "f = Polynomial([-5,-1,3])\r\n",
        "f.show()\r\n",
        "f.diff()\r\n",
        "f.show()"
      ],
      "execution_count": 30,
      "outputs": [
        {
          "output_type": "display_data",
          "data": {
            "text/latex": "$$-5-1x+3x^2$$",
            "text/plain": [
              "<IPython.core.display.Math object>"
            ]
          },
          "metadata": {
            "tags": []
          }
        },
        {
          "output_type": "display_data",
          "data": {
            "text/latex": "$$-1+6x$$",
            "text/plain": [
              "<IPython.core.display.Math object>"
            ]
          },
          "metadata": {
            "tags": []
          }
        }
      ]
    },
    {
      "cell_type": "code",
      "metadata": {
        "colab": {
          "base_uri": "https://localhost:8080/",
          "height": 558
        },
        "id": "5g65COiZf47j",
        "outputId": "f5834a1f-7dfb-454c-ef5c-44845ad791f8"
      },
      "source": [
        "#13. Построение графика заданного многочлена в заданных пределах x ∈ [a, b].\r\n",
        "f = Polynomial([16,-12,0,1])\r\n",
        "f.show()\r\n",
        "f.graf(-4.25,4.5,0.2)"
      ],
      "execution_count": 37,
      "outputs": [
        {
          "output_type": "display_data",
          "data": {
            "text/latex": "$$16-12x+x^3$$",
            "text/plain": [
              "<IPython.core.display.Math object>"
            ]
          },
          "metadata": {
            "tags": []
          }
        },
        {
          "output_type": "display_data",
          "data": {
            "image/png": "[encoded data removed]",
            "text/plain": [
              "<Figure size 1440x648 with 1 Axes>"
            ]
          },
          "metadata": {
            "tags": [],
            "needs_background": "light"
          }
        }
      ]
    }
  ]
}